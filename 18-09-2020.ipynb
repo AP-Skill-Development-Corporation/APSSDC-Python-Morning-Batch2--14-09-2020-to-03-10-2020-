{
 "cells": [
  {
   "cell_type": "code",
   "execution_count": 2,
   "metadata": {},
   "outputs": [
    {
     "name": "stdout",
     "output_type": "stream",
     "text": [
      "enter digits7864\n",
      "4\n"
     ]
    }
   ],
   "source": [
    "#i/p:1234579 no.of digits\n",
    "#o/p:7\n",
    "n=int(input(\"enter digits\"))    #7864\n",
    "c=0\n",
    "while(n!=0):   #7864!=0    #786!=0\n",
    "    rem=n%10    #7836%10=4   #786%10=6\n",
    "    c=c+1      #1  #2  #3  #4\n",
    "    n=n//10     #7864//10=786    #78\n",
    "print(c)"
   ]
  },
  {
   "cell_type": "code",
   "execution_count": null,
   "metadata": {},
   "outputs": [],
   "source": [
    "10)7864(786     10)786(78\n",
    "   7860            780\n",
    "   ----          ------\n",
    "    4              6"
   ]
  },
  {
   "cell_type": "code",
   "execution_count": 4,
   "metadata": {},
   "outputs": [
    {
     "name": "stdout",
     "output_type": "stream",
     "text": [
      "python\n",
      "6\n"
     ]
    }
   ],
   "source": [
    "s=input()\n",
    "c=0\n",
    "for i in s:\n",
    "    c=c+1\n",
    "print(c)\n",
    "    "
   ]
  },
  {
   "cell_type": "code",
   "execution_count": 5,
   "metadata": {},
   "outputs": [
    {
     "name": "stdout",
     "output_type": "stream",
     "text": [
      "7864\n",
      "4687\n"
     ]
    }
   ],
   "source": [
    "#i/p:7864  #reverse number\n",
    "#o/p:4687\n",
    "n=int(input())\n",
    "rev=0\n",
    "while(n!=0):     #7864   #786   #78   #7   \n",
    "    rem=n%10     #4       #6     #8   #7\n",
    "    rev=rev*10+rem   #0*10+4=4     #46    #468    #4687\n",
    "    n=n//10     #786    #78     #7  #0\n",
    "print(rev)\n"
   ]
  },
  {
   "cell_type": "code",
   "execution_count": 7,
   "metadata": {},
   "outputs": [
    {
     "name": "stdout",
     "output_type": "stream",
     "text": [
      "321\n",
      "not palindrome\n"
     ]
    }
   ],
   "source": [
    "#palindrome-->\n",
    "#i/p:121\n",
    "#o/p:121 is palindrome\n",
    "n=int(input())\n",
    "temp=n\n",
    "rev=0\n",
    "while(n!=0):\n",
    "    rem=n%10\n",
    "    rev=rev*10+rem\n",
    "    n=n//10\n",
    "if(temp==rev):\n",
    "    print(\"palindrome\")\n",
    "else:\n",
    "    print(\"not palindrome\")"
   ]
  },
  {
   "cell_type": "code",
   "execution_count": 10,
   "metadata": {},
   "outputs": [
    {
     "name": "stdout",
     "output_type": "stream",
     "text": [
      "153\n",
      "armstrong\n"
     ]
    }
   ],
   "source": [
    "#armstrong--->the sum of cubes of each digit is equal to the number and itself.\n",
    "#i/p:153\n",
    "#o/p:armstrong\n",
    "n=int(input())\n",
    "temp=n\n",
    "s=0\n",
    "while(n!=0):\n",
    "    rem=n%10\n",
    "    s=s+rem*rem*rem  #153=1*1*1+5*5*5+3*3*3=153\n",
    "    n=n//10\n",
    "if(temp==s):\n",
    "    print(\"armstrong\")\n",
    "else:\n",
    "    print(\"not armstrong\")"
   ]
  },
  {
   "cell_type": "code",
   "execution_count": null,
   "metadata": {},
   "outputs": [],
   "source": [
    "#Nested for\n",
    "- for loop inside for loop\n",
    "#Syntax:\n",
    "for var in range(start,end,step):\n",
    "    for var in range(start,end,step):\n",
    "        statements\n",
    "        "
   ]
  },
  {
   "cell_type": "code",
   "execution_count": 22,
   "metadata": {},
   "outputs": [
    {
     "name": "stdout",
     "output_type": "stream",
     "text": [
      "*  \n",
      "* *  \n",
      "* * *  \n",
      "* * * *  \n",
      "* * * * *  \n"
     ]
    }
   ],
   "source": [
    "for i in range(1,6):\n",
    "    for j in range(0,i):\n",
    "        print(\"*\",end=\" \")\n",
    "    print(' ')"
   ]
  },
  {
   "cell_type": "code",
   "execution_count": 21,
   "metadata": {},
   "outputs": [
    {
     "name": "stdout",
     "output_type": "stream",
     "text": [
      "* * * * *  \n",
      "* * * *  \n",
      "* * *  \n",
      "* *  \n",
      "*  \n"
     ]
    }
   ],
   "source": [
    "for i in range(1,6):\n",
    "    for j in range(i,6):\n",
    "        print(\"*\",end=\" \")\n",
    "    print(' ')"
   ]
  },
  {
   "cell_type": "code",
   "execution_count": 18,
   "metadata": {},
   "outputs": [
    {
     "name": "stdout",
     "output_type": "stream",
     "text": [
      "* * * * \n",
      "* * * * \n",
      "* * * * \n",
      "* * * * \n"
     ]
    }
   ],
   "source": [
    "for i in range(1,5):\n",
    "    for j in range(1,5):\n",
    "        print(\"*\",end=\" \")\n",
    "    print()"
   ]
  },
  {
   "cell_type": "code",
   "execution_count": 24,
   "metadata": {},
   "outputs": [
    {
     "name": "stdout",
     "output_type": "stream",
     "text": [
      "1\n",
      "100\n",
      "2 3 5 7 11 13 17 19 23 29 31 37 41 43 47 53 59 61 67 71 73 79 83 89 97 "
     ]
    }
   ],
   "source": [
    "#prime range\n",
    "#i/p:1-10\n",
    "#o/p:2357\n",
    "sp=int(input())\n",
    "ep=int(input())\n",
    "for i in range(sp,ep+1):\n",
    "    fc=0\n",
    "    for j in range(1,i+1):    #j=1    #j=2\n",
    "        if(i%j==0):     #1%1==0    #2%1==0   #2%2==0\n",
    "            fc+=1\n",
    "    if(fc==2):\n",
    "        print(i,end=\" \")"
   ]
  },
  {
   "cell_type": "code",
   "execution_count": null,
   "metadata": {},
   "outputs": [],
   "source": [
    "#perfect range---->task\n",
    "#i/p:1-100\n",
    "#o/p:6 28"
   ]
  },
  {
   "cell_type": "code",
   "execution_count": null,
   "metadata": {},
   "outputs": [],
   "source": [
    "#Nested while\n",
    "- while inside whileloop\n",
    "#Syntax:\n",
    "initization\n",
    "while condition:\n",
    "    statements\n",
    "    incre/decre\n",
    "    initilazation\n",
    "    while condition:\n",
    "        statement\n",
    "        incre/decre"
   ]
  },
  {
   "cell_type": "code",
   "execution_count": 27,
   "metadata": {},
   "outputs": [
    {
     "name": "stdout",
     "output_type": "stream",
     "text": [
      "1 * 1 = 1\n",
      "1 * 2 = 2\n",
      "1 * 3 = 3\n",
      "1 * 4 = 4\n",
      "1 * 5 = 5\n",
      "1 * 6 = 6\n",
      "1 * 7 = 7\n",
      "1 * 8 = 8\n",
      "1 * 9 = 9\n",
      "1 * 10 = 10\n",
      "\n",
      "2 * 1 = 2\n",
      "2 * 2 = 4\n",
      "2 * 3 = 6\n",
      "2 * 4 = 8\n",
      "2 * 5 = 10\n",
      "2 * 6 = 12\n",
      "2 * 7 = 14\n",
      "2 * 8 = 16\n",
      "2 * 9 = 18\n",
      "2 * 10 = 20\n",
      "\n",
      "3 * 1 = 3\n",
      "3 * 2 = 6\n",
      "3 * 3 = 9\n",
      "3 * 4 = 12\n",
      "3 * 5 = 15\n",
      "3 * 6 = 18\n",
      "3 * 7 = 21\n",
      "3 * 8 = 24\n",
      "3 * 9 = 27\n",
      "3 * 10 = 30\n",
      "\n",
      "4 * 1 = 4\n",
      "4 * 2 = 8\n",
      "4 * 3 = 12\n",
      "4 * 4 = 16\n",
      "4 * 5 = 20\n",
      "4 * 6 = 24\n",
      "4 * 7 = 28\n",
      "4 * 8 = 32\n",
      "4 * 9 = 36\n",
      "4 * 10 = 40\n",
      "\n",
      "5 * 1 = 5\n",
      "5 * 2 = 10\n",
      "5 * 3 = 15\n",
      "5 * 4 = 20\n",
      "5 * 5 = 25\n",
      "5 * 6 = 30\n",
      "5 * 7 = 35\n",
      "5 * 8 = 40\n",
      "5 * 9 = 45\n",
      "5 * 10 = 50\n",
      "\n",
      "6 * 1 = 6\n",
      "6 * 2 = 12\n",
      "6 * 3 = 18\n",
      "6 * 4 = 24\n",
      "6 * 5 = 30\n",
      "6 * 6 = 36\n",
      "6 * 7 = 42\n",
      "6 * 8 = 48\n",
      "6 * 9 = 54\n",
      "6 * 10 = 60\n",
      "\n",
      "7 * 1 = 7\n",
      "7 * 2 = 14\n",
      "7 * 3 = 21\n",
      "7 * 4 = 28\n",
      "7 * 5 = 35\n",
      "7 * 6 = 42\n",
      "7 * 7 = 49\n",
      "7 * 8 = 56\n",
      "7 * 9 = 63\n",
      "7 * 10 = 70\n",
      "\n",
      "8 * 1 = 8\n",
      "8 * 2 = 16\n",
      "8 * 3 = 24\n",
      "8 * 4 = 32\n",
      "8 * 5 = 40\n",
      "8 * 6 = 48\n",
      "8 * 7 = 56\n",
      "8 * 8 = 64\n",
      "8 * 9 = 72\n",
      "8 * 10 = 80\n",
      "\n",
      "9 * 1 = 9\n",
      "9 * 2 = 18\n",
      "9 * 3 = 27\n",
      "9 * 4 = 36\n",
      "9 * 5 = 45\n",
      "9 * 6 = 54\n",
      "9 * 7 = 63\n",
      "9 * 8 = 72\n",
      "9 * 9 = 81\n",
      "9 * 10 = 90\n",
      "\n",
      "10 * 1 = 10\n",
      "10 * 2 = 20\n",
      "10 * 3 = 30\n",
      "10 * 4 = 40\n",
      "10 * 5 = 50\n",
      "10 * 6 = 60\n",
      "10 * 7 = 70\n",
      "10 * 8 = 80\n",
      "10 * 9 = 90\n",
      "10 * 10 = 100\n",
      "\n"
     ]
    }
   ],
   "source": [
    "#1-10 tables \n",
    "i=1\n",
    "while i<=10:\n",
    "    j=1\n",
    "    while j<=10:\n",
    "        print(i,'*',j,'=',i*j)\n",
    "        j+=1\n",
    "    print()\n",
    "    i+=1\n",
    "        \n",
    "    "
   ]
  },
  {
   "cell_type": "markdown",
   "metadata": {},
   "source": [
    "# jump Statements\n",
    "- we may call it as unconditional jumps\n",
    "- mainly we are using these iterative statements means in for and while.\n",
    "## Break: \n",
    "- Name itself indicates whenever the control reaches the break statement \n",
    "automatically the control will come out from the loop\n",
    "- it will skip all iterations when the control reaches the break.\n",
    "- break is a keyword\n"
   ]
  },
  {
   "cell_type": "code",
   "execution_count": 28,
   "metadata": {},
   "outputs": [
    {
     "name": "stdout",
     "output_type": "stream",
     "text": [
      "0 1 2 3 4 5 "
     ]
    }
   ],
   "source": [
    "for i in range(10):\n",
    "    print(i,end=\" \")\n",
    "    if i==5:\n",
    "        break"
   ]
  },
  {
   "cell_type": "code",
   "execution_count": 30,
   "metadata": {},
   "outputs": [
    {
     "name": "stdout",
     "output_type": "stream",
     "text": [
      "p\n",
      "y\n",
      "t\n",
      "h\n"
     ]
    }
   ],
   "source": [
    "s='python'\n",
    "for i in s:\n",
    "    print(i)\n",
    "    if i=='h':\n",
    "        break"
   ]
  },
  {
   "cell_type": "markdown",
   "metadata": {},
   "source": [
    "## Continue\n",
    "- it skips ony current iteration and continue with the next iteration.\n",
    "- continue is a keyword.\n"
   ]
  },
  {
   "cell_type": "code",
   "execution_count": 32,
   "metadata": {},
   "outputs": [
    {
     "name": "stdout",
     "output_type": "stream",
     "text": [
      "0\n",
      "1\n",
      "2\n",
      "3\n",
      "4\n",
      "6\n",
      "7\n",
      "8\n",
      "9\n"
     ]
    }
   ],
   "source": [
    "for i in range(10):\n",
    "    if i==5:\n",
    "        continue\n",
    "    print(i)"
   ]
  },
  {
   "cell_type": "code",
   "execution_count": 33,
   "metadata": {},
   "outputs": [
    {
     "name": "stdout",
     "output_type": "stream",
     "text": [
      "0\n",
      "1\n",
      "2\n",
      "4\n"
     ]
    }
   ],
   "source": [
    "for i in range(5):\n",
    "    if i==3:\n",
    "        continue\n",
    "        print('nandini')\n",
    "    else:\n",
    "        print(i)"
   ]
  },
  {
   "cell_type": "markdown",
   "metadata": {},
   "source": [
    "## Pass\n",
    "- Pass is also a keyword.\n",
    "- which is used to to nothng \n",
    "- when we need condition syntatically correct but we do not want to do any operation\n",
    "- continue will jump back to the top of the loop.pass will continue the procesing.\n",
    "- why pass statement-->if you want to create a empty class."
   ]
  },
  {
   "cell_type": "code",
   "execution_count": 34,
   "metadata": {},
   "outputs": [
    {
     "name": "stdout",
     "output_type": "stream",
     "text": [
      "n\n",
      "a\n",
      "n\n",
      "i\n",
      "n\n",
      "i\n"
     ]
    }
   ],
   "source": [
    "s=\"nandini\"\n",
    "for i in s:\n",
    "    if i=='d':\n",
    "        pass\n",
    "    else:\n",
    "        print(i)"
   ]
  },
  {
   "cell_type": "code",
   "execution_count": 36,
   "metadata": {},
   "outputs": [
    {
     "name": "stdout",
     "output_type": "stream",
     "text": [
      "0\n",
      "1\n",
      "2\n",
      "nandini\n",
      "4\n"
     ]
    }
   ],
   "source": [
    "for i in range(5):\n",
    "    if i==3:\n",
    "        pass\n",
    "        print('nandini')\n",
    "    else:\n",
    "        print(i)"
   ]
  },
  {
   "cell_type": "code",
   "execution_count": null,
   "metadata": {},
   "outputs": [],
   "source": []
  },
  {
   "cell_type": "code",
   "execution_count": null,
   "metadata": {},
   "outputs": [],
   "source": []
  }
 ],
 "metadata": {
  "kernelspec": {
   "display_name": "Python 3",
   "language": "python",
   "name": "python3"
  },
  "language_info": {
   "codemirror_mode": {
    "name": "ipython",
    "version": 3
   },
   "file_extension": ".py",
   "mimetype": "text/x-python",
   "name": "python",
   "nbconvert_exporter": "python",
   "pygments_lexer": "ipython3",
   "version": "3.8.3"
  }
 },
 "nbformat": 4,
 "nbformat_minor": 4
}
