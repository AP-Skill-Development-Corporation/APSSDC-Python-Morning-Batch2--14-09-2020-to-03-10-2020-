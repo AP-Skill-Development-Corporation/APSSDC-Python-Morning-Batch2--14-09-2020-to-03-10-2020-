{
 "cells": [
  {
   "cell_type": "markdown",
   "metadata": {},
   "source": [
    "### Functional programming\n",
    "- list comprehension,dictionary comprehension\n",
    "- iterators\n",
    "- generators\n",
    "- map()\n",
    "- filter\n",
    "- lambda"
   ]
  },
  {
   "cell_type": "markdown",
   "metadata": {},
   "source": [
    "### iterators\n",
    "- in python iterator is an object it contains list of elements\n",
    "- iterator implements two methods\n",
    "    - iter() - inialization of an iterator\n",
    "    - next() - returns the next value for the iterate"
   ]
  },
  {
   "cell_type": "code",
   "execution_count": 4,
   "metadata": {
    "collapsed": true
   },
   "outputs": [
    {
     "name": "stdout",
     "output_type": "stream",
     "text": [
      "s\n",
      "r\n",
      "i\n",
      "k\n",
      "a\n",
      "n\n"
     ]
    }
   ],
   "source": [
    "ob=iter('srikanya')\n",
    "print(next(ob))\n",
    "print(next(ob))\n",
    "print(ob.__next__())\n",
    "print(ob.__next__())\n",
    "print(ob.__next__())\n",
    "print(ob.__next__())"
   ]
  },
  {
   "cell_type": "code",
   "execution_count": 7,
   "metadata": {},
   "outputs": [
    {
     "name": "stdout",
     "output_type": "stream",
     "text": [
      "siri giri\n"
     ]
    }
   ],
   "source": [
    "l=['siri','giri','vani','nandu']\n",
    "ob=iter(l)\n",
    "print(next(ob),next(ob))\n"
   ]
  },
  {
   "cell_type": "code",
   "execution_count": 11,
   "metadata": {
    "collapsed": true
   },
   "outputs": [
    {
     "name": "stdout",
     "output_type": "stream",
     "text": [
      "1:\n",
      "p\n",
      "\n",
      "\n",
      "2:\n",
      "y\n",
      "\n",
      "\n",
      "3:\n",
      "t\n",
      "\n",
      "\n",
      "4:\n",
      "h\n",
      "\n",
      "\n"
     ]
    }
   ],
   "source": [
    "it=iter('python')\n",
    "print('1:')\n",
    "print(next(it))\n",
    "print('\\n')\n",
    "print('2:')\n",
    "print(next(it))\n",
    "print('\\n')\n",
    "print('3:')\n",
    "print(next(it))\n",
    "print('\\n')\n",
    "print('4:')\n",
    "print(next(it))\n",
    "print('\\n')"
   ]
  },
  {
   "cell_type": "markdown",
   "metadata": {},
   "source": [
    "### Generators\n",
    "- it is a function that returs iterator (or) object\n",
    "- here we are using \"yield\" instead of return "
   ]
  },
  {
   "cell_type": "code",
   "execution_count": 12,
   "metadata": {
    "collapsed": true
   },
   "outputs": [
    {
     "name": "stdout",
     "output_type": "stream",
     "text": [
      "1\n",
      "2\n",
      "3\n"
     ]
    }
   ],
   "source": [
    "def sample():\n",
    "    yield 1\n",
    "    yield 2\n",
    "    yield 3\n",
    "for i in sample():\n",
    "    print(i)"
   ]
  },
  {
   "cell_type": "code",
   "execution_count": 14,
   "metadata": {
    "collapsed": true
   },
   "outputs": [
    {
     "name": "stdout",
     "output_type": "stream",
     "text": [
      "1\n",
      "2\n",
      "3\n"
     ]
    }
   ],
   "source": [
    "def sample():\n",
    "    yield 1\n",
    "    yield 2\n",
    "    yield 3\n",
    "x=sample()\n",
    "print(next(x))\n",
    "print(next(x))\n",
    "print(next(x))"
   ]
  },
  {
   "cell_type": "markdown",
   "metadata": {},
   "source": [
    "### function to print square of each number until it reaches the upper bound range \n",
    "### using generators function\n",
    "    [range(5) 2**2=4**2=16**2=256**2=----**2=---]"
   ]
  },
  {
   "cell_type": "code",
   "execution_count": 18,
   "metadata": {},
   "outputs": [
    {
     "name": "stdout",
     "output_type": "stream",
     "text": [
      "4\n",
      "16\n",
      "256\n",
      "65536\n",
      "4294967296\n"
     ]
    }
   ],
   "source": [
    "def square():\n",
    "    n=2\n",
    "    while True:\n",
    "        n**=2\n",
    "        yield n\n",
    "x=square()\n",
    "for i in range(5):\n",
    "    print(next(x))"
   ]
  },
  {
   "cell_type": "markdown",
   "metadata": {},
   "source": [
    "#### task:febinocci by using generators"
   ]
  },
  {
   "cell_type": "markdown",
   "metadata": {},
   "source": [
    "#### map()\n",
    "- it is a function it returns a list of the results after applying the given function\n",
    "    - syntax:\n",
    "            map(function,iter)"
   ]
  },
  {
   "cell_type": "code",
   "execution_count": 22,
   "metadata": {},
   "outputs": [
    {
     "name": "stdout",
     "output_type": "stream",
     "text": [
      "(2, 4, 6, 8, 10)\n"
     ]
    }
   ],
   "source": [
    "def addition(n):\n",
    "    return n+n\n",
    "li=[1,2,3,4,5]\n",
    "ob=tuple(map(addition,li))\n",
    "print(ob)\n",
    "    "
   ]
  },
  {
   "cell_type": "code",
   "execution_count": 25,
   "metadata": {},
   "outputs": [
    {
     "name": "stdout",
     "output_type": "stream",
     "text": [
      "[2, 4, 6, 8, 10, 12, 14, 16, 18]\n"
     ]
    }
   ],
   "source": [
    "def addition(n):\n",
    "    return n+n\n",
    "ob=list(map(addition,range(1,10)))\n",
    "print(ob)\n",
    "    "
   ]
  },
  {
   "cell_type": "code",
   "execution_count": 27,
   "metadata": {},
   "outputs": [
    {
     "name": "stdout",
     "output_type": "stream",
     "text": [
      "[2, 4, 6, 8, 10]\n"
     ]
    }
   ],
   "source": [
    "def addition(n):\n",
    "    return n+n\n",
    "li=(1,2,3,4,5)\n",
    "ob=list(map(addition,li))\n",
    "print(ob)\n",
    "    "
   ]
  },
  {
   "cell_type": "markdown",
   "metadata": {},
   "source": [
    "### filter()\n",
    "- it is used to check whether the given element is boolean or not\n",
    "    - syntax:\n",
    "        f:x->{T,F}"
   ]
  },
  {
   "cell_type": "code",
   "execution_count": 32,
   "metadata": {},
   "outputs": [
    {
     "name": "stdout",
     "output_type": "stream",
     "text": [
      "[1, 2, 3]\n"
     ]
    }
   ],
   "source": [
    "def fil(c):\n",
    "    c=str(c)\n",
    "    if c.isdigit():\n",
    "        return True\n",
    "    return False\n",
    "li=[1,2,3,'k','u','m']\n",
    "ob=list(filter(fil,li))\n",
    "print(ob)"
   ]
  },
  {
   "cell_type": "code",
   "execution_count": 33,
   "metadata": {},
   "outputs": [
    {
     "name": "stdout",
     "output_type": "stream",
     "text": [
      "['a', 'e', 'e']\n"
     ]
    }
   ],
   "source": [
    "def vowel(v):\n",
    "    l=['a','e','i','o','u']\n",
    "    if v in l:\n",
    "        return True\n",
    "    return False\n",
    "li=['a','g','e','e','j','l','m']\n",
    "ob=list(filter(vowel,li))\n",
    "print(ob)"
   ]
  },
  {
   "cell_type": "markdown",
   "metadata": {},
   "source": [
    "### task: prime number range"
   ]
  },
  {
   "cell_type": "markdown",
   "metadata": {},
   "source": [
    "#### lambda:\n",
    "- anonymous\n",
    "    - syntax:\n",
    "        lambda arguments:expression"
   ]
  },
  {
   "cell_type": "code",
   "execution_count": 34,
   "metadata": {},
   "outputs": [
    {
     "data": {
      "text/plain": [
       "216"
      ]
     },
     "execution_count": 34,
     "metadata": {},
     "output_type": "execute_result"
    }
   ],
   "source": [
    "r=lambda x:x**3\n",
    "r(6)"
   ]
  },
  {
   "cell_type": "code",
   "execution_count": 35,
   "metadata": {},
   "outputs": [
    {
     "data": {
      "text/plain": [
       "[1, 8, 27, 64, 125]"
      ]
     },
     "execution_count": 35,
     "metadata": {},
     "output_type": "execute_result"
    }
   ],
   "source": [
    "list(map(lambda x:x**3,[1,2,3,4,5]))"
   ]
  },
  {
   "cell_type": "code",
   "execution_count": 36,
   "metadata": {},
   "outputs": [
    {
     "name": "stdout",
     "output_type": "stream",
     "text": [
      "[30, 32, 34, 36, 38, 40, 42, 44, 46, 48]\n"
     ]
    }
   ],
   "source": [
    "even=lambda x:x%2==0\n",
    "r=list(filter(even,range(30,50)))\n",
    "print(r)"
   ]
  },
  {
   "cell_type": "code",
   "execution_count": null,
   "metadata": {},
   "outputs": [],
   "source": []
  }
 ],
 "metadata": {
  "kernelspec": {
   "display_name": "Python 3",
   "language": "python",
   "name": "python3"
  },
  "language_info": {
   "codemirror_mode": {
    "name": "ipython",
    "version": 3
   },
   "file_extension": ".py",
   "mimetype": "text/x-python",
   "name": "python",
   "nbconvert_exporter": "python",
   "pygments_lexer": "ipython3",
   "version": "3.7.3"
  }
 },
 "nbformat": 4,
 "nbformat_minor": 2
}
