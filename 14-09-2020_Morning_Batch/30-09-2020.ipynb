{
 "cells": [
  {
   "cell_type": "markdown",
   "metadata": {},
   "source": [
    "## Day Objectives:\n",
    "\n",
    "    - packages and modules\n",
    "        \n",
    "        package:\n",
    "            it is a collection of modules\n",
    "        \n",
    "        module:\n",
    "            - it is a .py file\n",
    "            - it contains collection of classes and functions\n",
    "            - for accessing module we are using one keyword \"import\"\n",
    "            - for accessing module we have few different ways\n",
    "            \n",
    "                - import modulename\n",
    "                - from module import classname\n",
    "                - from module import *\n",
    "        \n",
    "    - inheritance"
   ]
  },
  {
   "cell_type": "code",
   "execution_count": 2,
   "metadata": {},
   "outputs": [
    {
     "name": "stdout",
     "output_type": "stream",
     "text": [
      "7\n",
      "72\n"
     ]
    }
   ],
   "source": [
    "import myModule\n",
    "obj=myModule.Calsi\n",
    "print(obj.add(3,4))\n",
    "print(obj.mul(8,9))\n"
   ]
  },
  {
   "cell_type": "code",
   "execution_count": 5,
   "metadata": {},
   "outputs": [
    {
     "name": "stdout",
     "output_type": "stream",
     "text": [
      "5764801\n",
      "False\n"
     ]
    }
   ],
   "source": [
    "obj=myModule.Math\n",
    "print(obj.power(7,8))\n",
    "print(obj.isEven(7))"
   ]
  },
  {
   "cell_type": "code",
   "execution_count": 6,
   "metadata": {},
   "outputs": [
    {
     "name": "stdout",
     "output_type": "stream",
     "text": [
      "True\n"
     ]
    }
   ],
   "source": [
    "obj=myModule.isOdd(5)\n",
    "print(obj)"
   ]
  },
  {
   "cell_type": "code",
   "execution_count": 8,
   "metadata": {},
   "outputs": [
    {
     "name": "stdout",
     "output_type": "stream",
     "text": [
      "15625\n",
      "True\n"
     ]
    }
   ],
   "source": [
    "### second way\n",
    "from myModule import Math\n",
    "obj=Math\n",
    "print(obj.power(5,6))\n",
    "print(obj.isEven(8))"
   ]
  },
  {
   "cell_type": "code",
   "execution_count": 10,
   "metadata": {},
   "outputs": [
    {
     "name": "stdout",
     "output_type": "stream",
     "text": [
      "17\n",
      "72\n"
     ]
    }
   ],
   "source": [
    "from myModule import Calsi\n",
    "obj=Calsi\n",
    "print(obj.add(8,9))\n",
    "print(obj.mul(8,9))"
   ]
  },
  {
   "cell_type": "code",
   "execution_count": 12,
   "metadata": {},
   "outputs": [
    {
     "name": "stdout",
     "output_type": "stream",
     "text": [
      "True\n"
     ]
    }
   ],
   "source": [
    "from myModule import isOdd\n",
    "obj=isOdd(5)\n",
    "print(obj)"
   ]
  },
  {
   "cell_type": "code",
   "execution_count": 14,
   "metadata": {},
   "outputs": [
    {
     "name": "stdout",
     "output_type": "stream",
     "text": [
      "True\n"
     ]
    }
   ],
   "source": [
    "#### third way\n",
    "from myModule import *\n",
    "obj=isOdd(7)\n",
    "print(obj)"
   ]
  },
  {
   "cell_type": "code",
   "execution_count": 16,
   "metadata": {},
   "outputs": [
    {
     "name": "stdout",
     "output_type": "stream",
     "text": [
      "4096\n",
      "False\n"
     ]
    }
   ],
   "source": [
    "obj=Math\n",
    "print(obj.power(8,4))\n",
    "print(obj.isEven(9))"
   ]
  },
  {
   "cell_type": "code",
   "execution_count": 17,
   "metadata": {},
   "outputs": [
    {
     "name": "stdout",
     "output_type": "stream",
     "text": [
      "12\n",
      "54\n"
     ]
    }
   ],
   "source": [
    "obj=Calsi\n",
    "print(obj.add(8,4))\n",
    "print(obj.mul(9,6))"
   ]
  },
  {
   "cell_type": "markdown",
   "metadata": {},
   "source": [
    "### builtin modules"
   ]
  },
  {
   "cell_type": "code",
   "execution_count": 18,
   "metadata": {},
   "outputs": [
    {
     "name": "stdout",
     "output_type": "stream",
     "text": [
      "5040\n"
     ]
    }
   ],
   "source": [
    "import math\n",
    "print(math.factorial(7))"
   ]
  },
  {
   "cell_type": "code",
   "execution_count": 19,
   "metadata": {},
   "outputs": [
    {
     "name": "stdout",
     "output_type": "stream",
     "text": [
      "12.806248474865697\n"
     ]
    }
   ],
   "source": [
    "print(math.sqrt(164))"
   ]
  },
  {
   "cell_type": "code",
   "execution_count": 20,
   "metadata": {},
   "outputs": [
    {
     "name": "stdout",
     "output_type": "stream",
     "text": [
      "279936.0\n"
     ]
    }
   ],
   "source": [
    "print(math.pow(6,7))"
   ]
  },
  {
   "cell_type": "code",
   "execution_count": 21,
   "metadata": {},
   "outputs": [
    {
     "name": "stdout",
     "output_type": "stream",
     "text": [
      "3.141592653589793\n"
     ]
    }
   ],
   "source": [
    "print(math.pi)"
   ]
  },
  {
   "cell_type": "code",
   "execution_count": 22,
   "metadata": {
    "collapsed": true
   },
   "outputs": [
    {
     "data": {
      "text/plain": [
       "['__doc__',\n",
       " '__loader__',\n",
       " '__name__',\n",
       " '__package__',\n",
       " '__spec__',\n",
       " 'acos',\n",
       " 'acosh',\n",
       " 'asin',\n",
       " 'asinh',\n",
       " 'atan',\n",
       " 'atan2',\n",
       " 'atanh',\n",
       " 'ceil',\n",
       " 'copysign',\n",
       " 'cos',\n",
       " 'cosh',\n",
       " 'degrees',\n",
       " 'e',\n",
       " 'erf',\n",
       " 'erfc',\n",
       " 'exp',\n",
       " 'expm1',\n",
       " 'fabs',\n",
       " 'factorial',\n",
       " 'floor',\n",
       " 'fmod',\n",
       " 'frexp',\n",
       " 'fsum',\n",
       " 'gamma',\n",
       " 'gcd',\n",
       " 'hypot',\n",
       " 'inf',\n",
       " 'isclose',\n",
       " 'isfinite',\n",
       " 'isinf',\n",
       " 'isnan',\n",
       " 'ldexp',\n",
       " 'lgamma',\n",
       " 'log',\n",
       " 'log10',\n",
       " 'log1p',\n",
       " 'log2',\n",
       " 'modf',\n",
       " 'nan',\n",
       " 'pi',\n",
       " 'pow',\n",
       " 'radians',\n",
       " 'remainder',\n",
       " 'sin',\n",
       " 'sinh',\n",
       " 'sqrt',\n",
       " 'tan',\n",
       " 'tanh',\n",
       " 'tau',\n",
       " 'trunc']"
      ]
     },
     "execution_count": 22,
     "metadata": {},
     "output_type": "execute_result"
    }
   ],
   "source": [
    "dir(math)"
   ]
  },
  {
   "cell_type": "code",
   "execution_count": 28,
   "metadata": {},
   "outputs": [
    {
     "name": "stdout",
     "output_type": "stream",
     "text": [
      "1096.6331584284585\n"
     ]
    }
   ],
   "source": [
    "print(math.exp(7))"
   ]
  },
  {
   "cell_type": "code",
   "execution_count": 24,
   "metadata": {},
   "outputs": [
    {
     "name": "stdout",
     "output_type": "stream",
     "text": [
      "1\n"
     ]
    }
   ],
   "source": [
    "print(math.floor(1.3))"
   ]
  },
  {
   "cell_type": "code",
   "execution_count": 26,
   "metadata": {},
   "outputs": [
    {
     "name": "stdout",
     "output_type": "stream",
     "text": [
      "2\n"
     ]
    }
   ],
   "source": [
    "print(math.ceil(1.4))"
   ]
  },
  {
   "cell_type": "code",
   "execution_count": 29,
   "metadata": {
    "collapsed": true
   },
   "outputs": [
    {
     "name": "stdout",
     "output_type": "stream",
     "text": [
      "['C:\\\\Users\\\\win10\\\\Desktop\\\\batch-6', 'C:\\\\Users\\\\win10\\\\Anaconda3\\\\python37.zip', 'C:\\\\Users\\\\win10\\\\Anaconda3\\\\DLLs', 'C:\\\\Users\\\\win10\\\\Anaconda3\\\\lib', 'C:\\\\Users\\\\win10\\\\Anaconda3', '', 'C:\\\\Users\\\\win10\\\\Anaconda3\\\\lib\\\\site-packages', 'C:\\\\Users\\\\win10\\\\Anaconda3\\\\lib\\\\site-packages\\\\win32', 'C:\\\\Users\\\\win10\\\\Anaconda3\\\\lib\\\\site-packages\\\\win32\\\\lib', 'C:\\\\Users\\\\win10\\\\Anaconda3\\\\lib\\\\site-packages\\\\Pythonwin', 'C:\\\\Users\\\\win10\\\\Anaconda3\\\\lib\\\\site-packages\\\\IPython\\\\extensions', 'C:\\\\Users\\\\win10\\\\.ipython']\n"
     ]
    }
   ],
   "source": [
    "import sys\n",
    "print(sys.path)"
   ]
  },
  {
   "cell_type": "code",
   "execution_count": 30,
   "metadata": {
    "collapsed": true
   },
   "outputs": [
    {
     "name": "stdout",
     "output_type": "stream",
     "text": [
      "('_abc', '_ast', '_bisect', '_blake2', '_codecs', '_codecs_cn', '_codecs_hk', '_codecs_iso2022', '_codecs_jp', '_codecs_kr', '_codecs_tw', '_collections', '_contextvars', '_csv', '_datetime', '_functools', '_heapq', '_imp', '_io', '_json', '_locale', '_lsprof', '_md5', '_multibytecodec', '_opcode', '_operator', '_pickle', '_random', '_sha1', '_sha256', '_sha3', '_sha512', '_signal', '_sre', '_stat', '_string', '_struct', '_symtable', '_thread', '_tracemalloc', '_warnings', '_weakref', '_winapi', 'array', 'atexit', 'audioop', 'binascii', 'builtins', 'cmath', 'errno', 'faulthandler', 'gc', 'itertools', 'marshal', 'math', 'mmap', 'msvcrt', 'nt', 'parser', 'sys', 'time', 'winreg', 'xxsubtype', 'zipimport', 'zlib')\n"
     ]
    }
   ],
   "source": [
    "a=sys.builtin_module_names\n",
    "print(a)"
   ]
  },
  {
   "cell_type": "code",
   "execution_count": 31,
   "metadata": {},
   "outputs": [
    {
     "name": "stdout",
     "output_type": "stream",
     "text": [
      "2020-09-30\n"
     ]
    }
   ],
   "source": [
    "import datetime\n",
    "print(datetime.date.today())"
   ]
  },
  {
   "cell_type": "code",
   "execution_count": 32,
   "metadata": {
    "collapsed": true
   },
   "outputs": [
    {
     "data": {
      "text/plain": [
       "['MAXYEAR',\n",
       " 'MINYEAR',\n",
       " '__builtins__',\n",
       " '__cached__',\n",
       " '__doc__',\n",
       " '__file__',\n",
       " '__loader__',\n",
       " '__name__',\n",
       " '__package__',\n",
       " '__spec__',\n",
       " 'date',\n",
       " 'datetime',\n",
       " 'datetime_CAPI',\n",
       " 'sys',\n",
       " 'time',\n",
       " 'timedelta',\n",
       " 'timezone',\n",
       " 'tzinfo']"
      ]
     },
     "execution_count": 32,
     "metadata": {},
     "output_type": "execute_result"
    }
   ],
   "source": [
    "dir(datetime)"
   ]
  },
  {
   "cell_type": "code",
   "execution_count": 33,
   "metadata": {},
   "outputs": [
    {
     "name": "stdout",
     "output_type": "stream",
     "text": [
      "2020-09-30 09:11:25.410611\n"
     ]
    }
   ],
   "source": [
    "print(datetime.datetime.now())"
   ]
  },
  {
   "cell_type": "code",
   "execution_count": 34,
   "metadata": {},
   "outputs": [
    {
     "name": "stdout",
     "output_type": "stream",
     "text": [
      "2020-05-13 00:00:00\n"
     ]
    }
   ],
   "source": [
    "print(datetime.datetime(2020,5,13))"
   ]
  },
  {
   "cell_type": "code",
   "execution_count": 37,
   "metadata": {},
   "outputs": [
    {
     "name": "stdout",
     "output_type": "stream",
     "text": [
      "5\n"
     ]
    }
   ],
   "source": [
    "import random\n",
    "rand=random.randint(0,5)\n",
    "print(rand)"
   ]
  },
  {
   "cell_type": "code",
   "execution_count": 42,
   "metadata": {},
   "outputs": [
    {
     "name": "stdout",
     "output_type": "stream",
     "text": [
      "47.06643677061464\n"
     ]
    }
   ],
   "source": [
    "r=random.random() *200\n",
    "print(r)"
   ]
  },
  {
   "cell_type": "markdown",
   "metadata": {},
   "source": [
    "### inheritance:\n",
    "    - it is we are trying to something from parentclass to children class\n",
    "    - general format is \n",
    "        class childclass(parentclass):\n",
    "### types:\n",
    "    - single\n",
    "    - multi level\n",
    "    - multiple\n",
    "    - hybrid\n",
    "    - hierarchical\n",
    "### single level inheritance\n",
    "\n",
    "    - here only one parent class and only one child class\n",
    "    \n",
    "### multilevel inheritance\n",
    "\n",
    "    - it containd one or more parent classes and one or more child classes\n",
    "    \n",
    "### multiple inheritance\n",
    "\n",
    "    - two or more parent classes and only one child class"
   ]
  },
  {
   "cell_type": "code",
   "execution_count": 48,
   "metadata": {
    "collapsed": true
   },
   "outputs": [
    {
     "name": "stdout",
     "output_type": "stream",
     "text": [
      "10\n",
      "im from classA\n",
      "7\n",
      "8\n",
      "im from classB\n"
     ]
    }
   ],
   "source": [
    "### single level\n",
    "\n",
    "class classA:\n",
    "    a,b=10,20\n",
    "    def display():\n",
    "        print(\"im from classA\")\n",
    "class classB(classA):\n",
    "    c,d=7,8\n",
    "    def show():\n",
    "        print(\"im from classB\")\n",
    "        \n",
    "obj=classB\n",
    "print(obj.a)\n",
    "obj.display()\n",
    "print(obj.c)\n",
    "print(obj.d)\n",
    "obj.show()"
   ]
  },
  {
   "cell_type": "code",
   "execution_count": 51,
   "metadata": {
    "collapsed": true
   },
   "outputs": [
    {
     "name": "stdout",
     "output_type": "stream",
     "text": [
      "im from classA\n",
      "im from classB\n",
      "im from classC\n"
     ]
    }
   ],
   "source": [
    "#### multilevel \n",
    "\n",
    "class A:\n",
    "    def classA():\n",
    "        print(\"im from classA\")\n",
    "class B(A):\n",
    "    def classB():\n",
    "        print(\"im from classB\")\n",
    "class C(B):\n",
    "    def classC():\n",
    "        print(\"im from classC\")\n",
    "obj=C\n",
    "obj.classA()\n",
    "obj.classB()\n",
    "obj.classC()"
   ]
  },
  {
   "cell_type": "code",
   "execution_count": 52,
   "metadata": {},
   "outputs": [
    {
     "name": "stdout",
     "output_type": "stream",
     "text": [
      "im from classA\n",
      "im from classB\n",
      "im from classC\n"
     ]
    }
   ],
   "source": [
    "#### multiple\n",
    "\n",
    "class A:\n",
    "    def classA():\n",
    "        print(\"im from classA\")\n",
    "class B():\n",
    "    def classB():\n",
    "        print(\"im from classB\")\n",
    "class C(A,B):\n",
    "    def classC():\n",
    "        print(\"im from classC\")\n",
    "obj=C\n",
    "obj.classA()\n",
    "obj.classB()\n",
    "obj.classC()\n"
   ]
  },
  {
   "cell_type": "code",
   "execution_count": null,
   "metadata": {},
   "outputs": [],
   "source": []
  }
 ],
 "metadata": {
  "kernelspec": {
   "display_name": "Python 3",
   "language": "python",
   "name": "python3"
  },
  "language_info": {
   "codemirror_mode": {
    "name": "ipython",
    "version": 3
   },
   "file_extension": ".py",
   "mimetype": "text/x-python",
   "name": "python",
   "nbconvert_exporter": "python",
   "pygments_lexer": "ipython3",
   "version": "3.7.3"
  }
 },
 "nbformat": 4,
 "nbformat_minor": 2
}
