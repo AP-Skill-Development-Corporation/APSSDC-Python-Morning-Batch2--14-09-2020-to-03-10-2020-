{
 "cells": [
  {
   "cell_type": "markdown",
   "metadata": {},
   "source": [
    "### Day Objectives:\n",
    "\n",
    "- Python oops\n",
    "    - class\n",
    "    - object\n",
    "    - constructors\n",
    "    - inheritance\n",
    "    - packages and modules"
   ]
  },
  {
   "cell_type": "markdown",
   "metadata": {},
   "source": [
    "### class:\n",
    "    - it contains collection of variables and methods\n",
    "     syntax:\n",
    "         class classname:\n",
    "         \n",
    "             list of variables\n",
    "             list of methods\n",
    "### method:\n",
    "    - if function is existed inside the class then we will call it as a method\n",
    "### function:\n",
    "    - it contains collection of statements\n",
    "    - codeoptimization\n",
    "    - reusability\n"
   ]
  },
  {
   "cell_type": "code",
   "execution_count": 6,
   "metadata": {
    "collapsed": true
   },
   "outputs": [
    {
     "name": "stdout",
     "output_type": "stream",
     "text": [
      "10\n",
      "40\n",
      "hi,guys welcome to python oops\n",
      "good morning\n"
     ]
    }
   ],
   "source": [
    "class Hi:\n",
    "    a=10\n",
    "    b=40\n",
    "    def display():\n",
    "        print(\"hi,guys welcome to python oops\")\n",
    "    def sample():\n",
    "        print(\"good morning\")\n",
    "print(Hi.a)\n",
    "print(Hi.b)\n",
    "Hi.display()\n",
    "Hi.sample()"
   ]
  },
  {
   "cell_type": "markdown",
   "metadata": {},
   "source": [
    "#### Object:\n",
    "    - it is a instance of class\n",
    "    \n",
    "    - syntax:\n",
    "         object name=classname"
   ]
  },
  {
   "cell_type": "code",
   "execution_count": 11,
   "metadata": {},
   "outputs": [
    {
     "name": "stdout",
     "output_type": "stream",
     "text": [
      "40\n",
      "10\n",
      "hi,guys welcome to python oops\n",
      "good morning\n"
     ]
    }
   ],
   "source": [
    "class Hi:\n",
    "    a=10\n",
    "    b=40\n",
    "    def display():\n",
    "        print(\"hi,guys welcome to python oops\")\n",
    "    def sample():\n",
    "        print(\"good morning\")\n",
    "obj=Hi\n",
    "print(obj.b)\n",
    "print(obj.a)\n",
    "obj.display()\n",
    "obj.sample()"
   ]
  },
  {
   "cell_type": "code",
   "execution_count": 14,
   "metadata": {
    "collapsed": true
   },
   "outputs": [
    {
     "name": "stdout",
     "output_type": "stream",
     "text": [
      "7\n",
      "72\n"
     ]
    }
   ],
   "source": [
    "class Math:\n",
    "    def add(n1,n2):\n",
    "        return n1+n2\n",
    "    def mul(n1,n2):\n",
    "        return n1*n2\n",
    "    \n",
    "obj=Math\n",
    "print(obj.add(3,4))\n",
    "print(obj.mul(8,9))"
   ]
  },
  {
   "cell_type": "code",
   "execution_count": 15,
   "metadata": {},
   "outputs": [
    {
     "ename": "TypeError",
     "evalue": "add() takes 2 positional arguments but 3 were given",
     "output_type": "error",
     "traceback": [
      "\u001b[1;31m---------------------------------------------------------------------------\u001b[0m",
      "\u001b[1;31mTypeError\u001b[0m                                 Traceback (most recent call last)",
      "\u001b[1;32m<ipython-input-15-c2b4c6c9e5bf>\u001b[0m in \u001b[0;36m<module>\u001b[1;34m\u001b[0m\n\u001b[0;32m      6\u001b[0m \u001b[1;33m\u001b[0m\u001b[0m\n\u001b[0;32m      7\u001b[0m \u001b[0mobj\u001b[0m\u001b[1;33m=\u001b[0m\u001b[0mMath\u001b[0m\u001b[1;33m(\u001b[0m\u001b[1;33m)\u001b[0m\u001b[1;33m\u001b[0m\u001b[1;33m\u001b[0m\u001b[0m\n\u001b[1;32m----> 8\u001b[1;33m \u001b[0mprint\u001b[0m\u001b[1;33m(\u001b[0m\u001b[0mobj\u001b[0m\u001b[1;33m.\u001b[0m\u001b[0madd\u001b[0m\u001b[1;33m(\u001b[0m\u001b[1;36m3\u001b[0m\u001b[1;33m,\u001b[0m\u001b[1;36m4\u001b[0m\u001b[1;33m)\u001b[0m\u001b[1;33m)\u001b[0m\u001b[1;33m\u001b[0m\u001b[1;33m\u001b[0m\u001b[0m\n\u001b[0m\u001b[0;32m      9\u001b[0m \u001b[0mprint\u001b[0m\u001b[1;33m(\u001b[0m\u001b[0mobj\u001b[0m\u001b[1;33m.\u001b[0m\u001b[0mmul\u001b[0m\u001b[1;33m(\u001b[0m\u001b[1;36m8\u001b[0m\u001b[1;33m,\u001b[0m\u001b[1;36m9\u001b[0m\u001b[1;33m)\u001b[0m\u001b[1;33m)\u001b[0m\u001b[1;33m\u001b[0m\u001b[1;33m\u001b[0m\u001b[0m\n",
      "\u001b[1;31mTypeError\u001b[0m: add() takes 2 positional arguments but 3 were given"
     ]
    }
   ],
   "source": [
    "class Math:\n",
    "    def add(n1,n2):\n",
    "        return n1+n2\n",
    "    def mul(n1,n2):\n",
    "        return n1*n2\n",
    "    \n",
    "obj=Math()\n",
    "print(obj.add(3,4))\n",
    "print(obj.mul(8,9))"
   ]
  },
  {
   "cell_type": "markdown",
   "metadata": {},
   "source": [
    "## constructor\n",
    "    - the main advantage is without using object we will call function\n",
    "    - for that we have a small procedure\n",
    "    - here we are using small function '__init__'\n",
    "    \n",
    "    syntax:\n",
    "         \n",
    "            class classname:\n",
    "                def __init__(self):\n",
    "                \n",
    "                    # body of the constructor\n",
    "### Types of constructors\n",
    "    - 1. default constructor\n",
    "        \n",
    "            def__init__(self,[argumentvalues]):\n",
    "                self.membername=argument value\n",
    "                \n",
    "    - 2. parameterized construcor"
   ]
  },
  {
   "cell_type": "code",
   "execution_count": 16,
   "metadata": {},
   "outputs": [
    {
     "name": "stdout",
     "output_type": "stream",
     "text": [
      "welcome to constructors\n"
     ]
    }
   ],
   "source": [
    "### default constructor\n",
    "\n",
    "class Cons:\n",
    "    def __init__(self):\n",
    "        print(\"welcome to constructors\")\n",
    "ob=Cons()"
   ]
  },
  {
   "cell_type": "code",
   "execution_count": 17,
   "metadata": {},
   "outputs": [
    {
     "name": "stdout",
     "output_type": "stream",
     "text": [
      "welcome to constructors\n"
     ]
    }
   ],
   "source": [
    "class Cons:\n",
    "    def __init__(self):\n",
    "        self.a=\"welcome to constructors\"\n",
    "    def show(self):\n",
    "        print(self.a)\n",
    "obj=Cons()\n",
    "obj.show()\n",
    "        "
   ]
  },
  {
   "cell_type": "code",
   "execution_count": 18,
   "metadata": {},
   "outputs": [
    {
     "name": "stdout",
     "output_type": "stream",
     "text": [
      "now im using user define constructor\n"
     ]
    }
   ],
   "source": [
    "### userdefined \n",
    "class Cons:\n",
    "    def __myCons__(self):\n",
    "        print(\"now im using user define constructor\")\n",
    "ob=Cons()\n",
    "ob.__myCons__()"
   ]
  },
  {
   "cell_type": "markdown",
   "metadata": {},
   "source": [
    "### parameterized construcor:\n",
    "    - constructor with parameters is know as parameterized construcor\n",
    "    - def__init__(self)\n",
    "    - __init__(self,a,b):\n",
    "    - __init__(a,self,b):"
   ]
  },
  {
   "cell_type": "code",
   "execution_count": 20,
   "metadata": {},
   "outputs": [
    {
     "name": "stdout",
     "output_type": "stream",
     "text": [
      "9\n",
      "4\n",
      "5\n"
     ]
    }
   ],
   "source": [
    "class Basic:\n",
    "    def __init__(abc,v1,v2):\n",
    "        abc.num1=v1\n",
    "        abc.num2=v2\n",
    "    def show(abc):\n",
    "        print(abc.num1)\n",
    "        print(abc.num2)\n",
    "    def add(abc):\n",
    "        return abc.num1+abc.num2\n",
    "m=Basic(4,5)\n",
    "print(m.add())\n",
    "m.show()"
   ]
  },
  {
   "cell_type": "code",
   "execution_count": 21,
   "metadata": {
    "collapsed": true
   },
   "outputs": [
    {
     "name": "stdout",
     "output_type": "stream",
     "text": [
      "[503, 509, 521, 523, 541, 547, 557, 563, 569, 571, 577, 587, 593, 599]\n"
     ]
    }
   ],
   "source": [
    "## using filters\n",
    "def prime(n):\n",
    "    if n<=2:\n",
    "        return False\n",
    "    for i in range(2,n//2+1):\n",
    "        if n%i==0:\n",
    "            return False\n",
    "    return True\n",
    "ob=list(filter(prime,range(500,600)))\n",
    "print(ob)\n"
   ]
  },
  {
   "cell_type": "code",
   "execution_count": 23,
   "metadata": {
    "collapsed": true
   },
   "outputs": [
    {
     "name": "stdout",
     "output_type": "stream",
     "text": [
      "[3, 5, 7, 11, 13, 17, 19, 23, 29, 31, 37, 41, 43, 47, 53, 59, 61, 67, 71, 73, 79, 83, 89, 97]\n"
     ]
    }
   ],
   "source": [
    "## ls\n",
    "def prime(n):\n",
    "    if n<=2:\n",
    "        return False\n",
    "    for i in range(2,n//2+1):\n",
    "        if n%i==0:\n",
    "            return False\n",
    "    return True\n",
    "lb=1\n",
    "ub=100\n",
    "p=[i for i in range(lb,ub+1) if prime(i)]\n",
    "print(p)"
   ]
  },
  {
   "cell_type": "code",
   "execution_count": 25,
   "metadata": {},
   "outputs": [
    {
     "name": "stdout",
     "output_type": "stream",
     "text": [
      "0\n",
      "1\n",
      "1\n",
      "2\n",
      "3\n",
      "5\n",
      "8\n"
     ]
    }
   ],
   "source": [
    "### febinocci\n",
    "def fib(n):\n",
    "    a,b=0,1\n",
    "    while a<n:\n",
    "        yield a\n",
    "        a,b=b,a+b\n",
    "for i in fib(10):\n",
    "    print(i)"
   ]
  },
  {
   "cell_type": "code",
   "execution_count": null,
   "metadata": {},
   "outputs": [],
   "source": []
  }
 ],
 "metadata": {
  "kernelspec": {
   "display_name": "Python 3",
   "language": "python",
   "name": "python3"
  },
  "language_info": {
   "codemirror_mode": {
    "name": "ipython",
    "version": 3
   },
   "file_extension": ".py",
   "mimetype": "text/x-python",
   "name": "python",
   "nbconvert_exporter": "python",
   "pygments_lexer": "ipython3",
   "version": "3.7.3"
  }
 },
 "nbformat": 4,
 "nbformat_minor": 2
}
