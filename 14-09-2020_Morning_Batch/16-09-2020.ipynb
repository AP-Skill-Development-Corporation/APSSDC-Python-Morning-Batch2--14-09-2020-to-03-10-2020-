{
 "cells": [
  {
   "cell_type": "markdown",
   "metadata": {},
   "source": [
    "# Conditional Statements\n",
    "- if Condition\n",
    "- if-else Condition\n",
    "- elif or else-if Condition\n",
    "- Nested if\n"
   ]
  },
  {
   "cell_type": "code",
   "execution_count": null,
   "metadata": {},
   "outputs": [],
   "source": [
    "# If Condition\n",
    "* The main of if condition is to check the Single condition\n",
    "#Syntax:\n",
    " \n",
    "if condition:\n",
    "    statement\n",
    "# Intendation:4spaces or one tabspace\n"
   ]
  },
  {
   "cell_type": "code",
   "execution_count": 3,
   "metadata": {},
   "outputs": [
    {
     "name": "stdout",
     "output_type": "stream",
     "text": [
      "enter number12\n"
     ]
    }
   ],
   "source": [
    "#Given num is lessthan 10\n",
    "n=int(input(\"enter number\"))\n",
    "if n<=10:\n",
    "    print(n,\"is smaller than 10\")"
   ]
  },
  {
   "cell_type": "code",
   "execution_count": null,
   "metadata": {},
   "outputs": [],
   "source": [
    "#if else Syntax: We are using if...else for checking two conditions\n",
    "if condition:\n",
    "    statement\n",
    "else:\n",
    "    statement"
   ]
  },
  {
   "cell_type": "code",
   "execution_count": 6,
   "metadata": {},
   "outputs": [
    {
     "name": "stdout",
     "output_type": "stream",
     "text": [
      "enter age18\n",
      "eligible\n"
     ]
    }
   ],
   "source": [
    "#Vote eligible\n",
    "age=int(input(\"enter age\"))\n",
    "if age>=18:\n",
    "    print(\"eligible\")\n",
    "else:\n",
    "    print(\"not eligible\")"
   ]
  },
  {
   "cell_type": "code",
   "execution_count": 8,
   "metadata": {},
   "outputs": [
    {
     "name": "stdout",
     "output_type": "stream",
     "text": [
      "enter number3\n",
      "odd\n"
     ]
    }
   ],
   "source": [
    "#even odd\n",
    "#input:10\n",
    "#output:even\n",
    "n=int(input(\"enter number\"))\n",
    "if n%2==0:\n",
    "    print(\"even\")\n",
    "else:\n",
    "    print(\"odd\")"
   ]
  },
  {
   "cell_type": "code",
   "execution_count": 10,
   "metadata": {},
   "outputs": [
    {
     "name": "stdout",
     "output_type": "stream",
     "text": [
      "enter year1998\n",
      "1998 is not a leap year\n"
     ]
    }
   ],
   "source": [
    "#Leapyear\n",
    "year=int(input(\"enter year\"))\n",
    "if((year%4==0 and year%100!=0)or(year%400==0)):\n",
    "    print(year,\"is a leap year\")\n",
    "else:\n",
    "    print(year,\"is not a leap year\")"
   ]
  },
  {
   "cell_type": "code",
   "execution_count": 12,
   "metadata": {},
   "outputs": [
    {
     "name": "stdout",
     "output_type": "stream",
     "text": [
      "enter number23\n",
      "enter number12\n",
      "enter number2\n",
      "23 is the gratest num\n"
     ]
    }
   ],
   "source": [
    "#biggest num\n",
    "#input:12,23,15\n",
    "#output:23 is biggest num\n",
    "a=int(input(\"enter number\"))\n",
    "b=int(input(\"enter number\"))\n",
    "c=int(input(\"enter number\"))\n",
    "if(a>b and a>c):\n",
    "    print(a,\"is the gratest num\")\n",
    "elif(b>c):\n",
    "    print(b,\"is the gratest num\")\n",
    "else:\n",
    "    print(c,\"is the biggest num\")\n",
    "    \n"
   ]
  },
  {
   "cell_type": "code",
   "execution_count": null,
   "metadata": {},
   "outputs": [],
   "source": [
    "#elif or elseif:\n",
    "# the main purose of elseif is to check the two or more condition\n",
    "if condition:\n",
    "    statement\n",
    "elif condition:\n",
    "    statement\n",
    "   .\n",
    "   .\n",
    "else:\n",
    "    statement"
   ]
  },
  {
   "cell_type": "code",
   "execution_count": 14,
   "metadata": {},
   "outputs": [
    {
     "name": "stdout",
     "output_type": "stream",
     "text": [
      "enter number34\n",
      "34 is not divisible by 5 and 7\n"
     ]
    }
   ],
   "source": [
    "#input:35\n",
    "#output:given num is divisible by 5 and 7.\n",
    "#input:23\n",
    "#output:given num is  not divisible by 5 and 7.\n",
    "n=int(input(\"enter number\"))\n",
    "if(n%5==0 and n%7==0):\n",
    "    print(n,\"is divisible by 5 and 7\")\n",
    "else:\n",
    "    print(n,\"is not divisible by 5 and 7\")"
   ]
  },
  {
   "cell_type": "code",
   "execution_count": 16,
   "metadata": {},
   "outputs": [
    {
     "name": "stdout",
     "output_type": "stream",
     "text": [
      "enter chocolates10\n",
      "enter friends9\n",
      "10 is not equally distributed\n"
     ]
    }
   ],
   "source": [
    "#chocolates: 8   input:chocolates\n",
    "#friends:3     output:equally distrbuted\n",
    "c=int(input(\"enter chocolates\"))\n",
    "f=int(input(\"enter friends\"))\n",
    "if (c%f==0):\n",
    "    print(c,\"equally distributed\")\n",
    "else:\n",
    "    print(c,\"is not equally distributed\")"
   ]
  },
  {
   "cell_type": "code",
   "execution_count": 8,
   "metadata": {},
   "outputs": [
    {
     "name": "stdout",
     "output_type": "stream",
     "text": [
      "enter input3455667\n",
      "digit\n"
     ]
    }
   ],
   "source": [
    "#input:d,4,@\n",
    "#output:alphabet,digit,special char\n",
    "n=input(\"enter input\")\n",
    "if(n>='a' and n<='z')or(n>='A' and n<='Z'):\n",
    "    print(\"Alphabet\")\n",
    "elif(n>='0' and n<='9'):\n",
    "        print(\"digit\")\n",
    "else:\n",
    "    print(\"Specialchar\")\n",
    "        "
   ]
  },
  {
   "cell_type": "code",
   "execution_count": 28,
   "metadata": {},
   "outputs": [
    {
     "name": "stdout",
     "output_type": "stream",
     "text": [
      "enter marks123\n",
      "Choose the correct marks\n"
     ]
    }
   ],
   "source": [
    "#input:marks:80-100--->agrade\n",
    "#70-79-->b grade\n",
    "#60-69--->c grade\n",
    "#45-59-->d grade\n",
    "#<=44-->fail\n",
    "marks=int(input(\"enter marks\"))\n",
    "if marks>=80 and marks<=100:\n",
    "    print(\"You scored grade A\")\n",
    "elif marks>=70 and marks<=79:\n",
    "    print(\"You Scored Grade B\")\n",
    "elif marks>=60 and marks<=69:\n",
    "    print(\"You Scored Grade C\")\n",
    "elif marks>=45 and marks<=59:\n",
    "    print(\"You Scored Grade D\")\n",
    "elif marks<=44:\n",
    "    print(\"Fail\")\n",
    "else:\n",
    "    print(\"Choose the correct marks\")"
   ]
  },
  {
   "cell_type": "code",
   "execution_count": 30,
   "metadata": {},
   "outputs": [
    {
     "name": "stdout",
     "output_type": "stream",
     "text": [
      "enter number4\n",
      "enter number2\n",
      "1.add 2.sub 3.mul 4.div 5.mod 6.power 7.floordiv\n",
      "enter your choice4\n",
      "div is: 2.0\n"
     ]
    }
   ],
   "source": [
    "#Arthimetic Operator\n",
    "#input:a,b\n",
    "#choice:1-addition  2-sub 3.mul  4.div 5-mod 6-power 7floordiv\n",
    "#ouput:1--->a+b\n",
    "a=int(input(\"enter number\"))\n",
    "b=int(input(\"enter number\"))\n",
    "print(\"1.add 2.sub 3.mul 4.div 5.mod 6.power 7.floordiv\")\n",
    "choice=int(input(\"enter your choice\"))\n",
    "if choice==1:\n",
    "    print(\"Addition is:\",a+b)\n",
    "elif choice==2:\n",
    "    print(\"sub is:\",a-b)\n",
    "elif choice==3:\n",
    "    print(\"mul is:\",a*b)\n",
    "elif choice==4:\n",
    "    print(\"div is:\",a/b)\n",
    "elif choice==5:\n",
    "    print(\"mod is:\",a%b)\n",
    "elif choice==6:\n",
    "    print(\"power is:\",a**b)\n",
    "elif choice==7:\n",
    "    print(\"floordiv is:\",a//b)\n",
    "else:\n",
    "    print(\"Invalid Choice\")"
   ]
  },
  {
   "cell_type": "code",
   "execution_count": null,
   "metadata": {},
   "outputs": [],
   "source": [
    "#Nested if:\n",
    "# if block inside if blocks\n",
    "if condition:\n",
    "    statement\n",
    "    if condition:\n",
    "        statement\n",
    "    else:\n",
    "        statement\n",
    "else:\n",
    "    statement"
   ]
  },
  {
   "cell_type": "code",
   "execution_count": 3,
   "metadata": {},
   "outputs": [
    {
     "name": "stdout",
     "output_type": "stream",
     "text": [
      "enter num8\n",
      "512\n"
     ]
    }
   ],
   "source": [
    "#input:12even\n",
    "#>10---->n**2\n",
    "#<10---->n**3\n",
    "#odd\n",
    "\n",
    "n=int(input(\"enter num\"))\n",
    "if n%2==0:\n",
    "    if(n>10):\n",
    "        print(n**2)\n",
    "    else:\n",
    "        print(n**3)\n",
    "else:\n",
    "    print(\"odd\")\n"
   ]
  },
  {
   "cell_type": "code",
   "execution_count": 7,
   "metadata": {},
   "outputs": [
    {
     "name": "stdout",
     "output_type": "stream",
     "text": [
      "23\n",
      "enter password12345\n",
      "Successfully entered\n"
     ]
    }
   ],
   "source": [
    "#userid=1-100\n",
    "#pswed=12345\n",
    "      ##Successfully entered\n",
    "    #wrong pswrd\n",
    "#invalid userid\n",
    "userid=int(input())\n",
    "if(userid>=1 and userid<=100):\n",
    "    pswrd=int(input(\"enter password\"))\n",
    "    if(pswrd==12345):\n",
    "        print(\"Successfully entered\")\n",
    "    else:\n",
    "        print(\"wrong pswrd\")\n",
    "else:\n",
    "    print(\"invalid userid\")"
   ]
  },
  {
   "cell_type": "code",
   "execution_count": null,
   "metadata": {},
   "outputs": [],
   "source": [
    "Assignment operator(=,+=,-=,/=,//=,**=,*=,^=)\n",
    "identity operator(is,isnot)--->compares the memory location of two objects\n",
    "membership operator:(in,notin)--->it is tested for membership in a sequence"
   ]
  }
 ],
 "metadata": {
  "kernelspec": {
   "display_name": "Python 3",
   "language": "python",
   "name": "python3"
  },
  "language_info": {
   "codemirror_mode": {
    "name": "ipython",
    "version": 3
   },
   "file_extension": ".py",
   "mimetype": "text/x-python",
   "name": "python",
   "nbconvert_exporter": "python",
   "pygments_lexer": "ipython3",
   "version": "3.8.3"
  }
 },
 "nbformat": 4,
 "nbformat_minor": 4
}
